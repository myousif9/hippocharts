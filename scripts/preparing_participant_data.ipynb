{
 "cells": [
  {
   "cell_type": "code",
   "execution_count": 295,
   "id": "4c38abdd-bd41-441b-b167-d1f2bf1adea1",
   "metadata": {},
   "outputs": [],
   "source": [
    "import nibabel as nib\n",
    "import pandas as pd\n",
    "import numpy as np\n",
    "\n",
    "import matplotlib.pyplot as plt\n",
    "import seaborn as sns\n",
    "import os\n",
    "from glob import glob\n",
    "import math"
   ]
  },
  {
   "cell_type": "code",
   "execution_count": 425,
   "id": "16c14ab9-1f0e-4754-b9be-d1c49f0a9f4a",
   "metadata": {},
   "outputs": [],
   "source": [
    "project_dir = '/home/ROBARTS/myousif/projects_inprogress/hippocharts/'\n",
    "project_data_dir = os.path.join(project_dir,'data')"
   ]
  },
  {
   "cell_type": "code",
   "execution_count": 10,
   "id": "aa76e527-7df3-422f-839a-5412013931fb",
   "metadata": {},
   "outputs": [],
   "source": [
    "all_datasets_path = os.path.abspath('/home/ROBARTS/myousif/graham/projects/ctb-akhanf/myousif9/norm_models/datasets/')\n",
    "\n",
    "datasets_names = ['AOMIC/ds002785','AOMIC/ds002790','AOMIC/ds003097','cam-can','hcp1200','hcp_aging','mpi_leipzig','neurocog_aging','narratives','QTIM']\n",
    "datasets_path_list = [os.path.join(all_datasets_path,dset) for dset in datasets_names]\n",
    "\n",
    "datasets_paths = dict(zip(datasets_names,datasets_path_list))"
   ]
  },
  {
   "cell_type": "code",
   "execution_count": 24,
   "id": "0cc170cf-db78-4780-b93f-54577928bde7",
   "metadata": {},
   "outputs": [],
   "source": [
    "participant_dfs_paths = [ os.path.join(dpath,'bidsdir/participants.tsv') for dpath in datasets_path_list]\n",
    "participant_dfs_paths[-2] = participant_dfs_paths[-2].replace('/participants.tsv','/ds002345/participants.tsv')\n",
    "participant_dfs_paths[4] = participant_dfs_paths[4].replace('bidsdir/participants.tsv','unrestricted_myousif_2_8_2024_16_40_50.csv')\n",
    "participant_dfs_paths[5] = participant_dfs_paths[5].replace('bidsdir/participants.tsv','hcpA_participant_data.csv')"
   ]
  },
  {
   "cell_type": "code",
   "execution_count": 25,
   "id": "863fda8c-0c33-4003-8885-89c0fa9f1d66",
   "metadata": {},
   "outputs": [
    {
     "name": "stdout",
     "output_type": "stream",
     "text": [
      "/home/ROBARTS/myousif/graham/projects/ctb-akhanf/myousif9/norm_models/datasets/AOMIC/ds002785/bidsdir/participants.tsv True\n",
      "/home/ROBARTS/myousif/graham/projects/ctb-akhanf/myousif9/norm_models/datasets/AOMIC/ds002790/bidsdir/participants.tsv True\n",
      "/home/ROBARTS/myousif/graham/projects/ctb-akhanf/myousif9/norm_models/datasets/AOMIC/ds003097/bidsdir/participants.tsv True\n",
      "/home/ROBARTS/myousif/graham/projects/ctb-akhanf/myousif9/norm_models/datasets/cam-can/bidsdir/participants.tsv True\n",
      "/home/ROBARTS/myousif/graham/projects/ctb-akhanf/myousif9/norm_models/datasets/hcp1200/unrestricted_myousif_2_8_2024_16_40_50.csv True\n",
      "/home/ROBARTS/myousif/graham/projects/ctb-akhanf/myousif9/norm_models/datasets/hcp_aging/hcpA_participant_data.csv True\n",
      "/home/ROBARTS/myousif/graham/projects/ctb-akhanf/myousif9/norm_models/datasets/mpi_leipzig/bidsdir/participants.tsv True\n",
      "/home/ROBARTS/myousif/graham/projects/ctb-akhanf/myousif9/norm_models/datasets/neurocog_aging/bidsdir/participants.tsv True\n",
      "/home/ROBARTS/myousif/graham/projects/ctb-akhanf/myousif9/norm_models/datasets/narratives/bidsdir/ds002345/participants.tsv True\n",
      "/home/ROBARTS/myousif/graham/projects/ctb-akhanf/myousif9/norm_models/datasets/QTIM/bidsdir/participants.tsv True\n"
     ]
    }
   ],
   "source": [
    "for p in participant_dfs_paths:\n",
    "    print(p, os.path.exists(p))"
   ]
  },
  {
   "cell_type": "code",
   "execution_count": 354,
   "id": "0b026b8f-35f9-4f06-afbe-5b6e9fa28ede",
   "metadata": {},
   "outputs": [],
   "source": [
    "participant_dfs = [pd.read_csv(p,sep='\\t') if '.tsv' in p else pd.read_csv(p) for p in participant_dfs_paths]"
   ]
  },
  {
   "cell_type": "code",
   "execution_count": 355,
   "id": "e972c9de-5d32-4f0d-9f72-1d30750ffaba",
   "metadata": {},
   "outputs": [],
   "source": [
    "datasets_names_list = ['aomic_piop1',\n",
    "                       'aomic_piop2',\n",
    "                       'aomic_id1000',\n",
    "                       'cam-can',\n",
    "                       'hcp1200',\n",
    "                       'hcp_aging',\n",
    "                       'mpi_leipzig',\n",
    "                       'neurocog_aging',\n",
    "                       'narratives',\n",
    "                       'qtim']\n",
    "\n",
    "for idx, dset_name in enumerate(datasets_names_list):\n",
    "    participant_dfs[idx]['dataset'] = dset_name"
   ]
  },
  {
   "cell_type": "code",
   "execution_count": 356,
   "id": "7f9ff5e9-f39f-448a-85a0-039e792c101d",
   "metadata": {},
   "outputs": [],
   "source": [
    "for i in range(0,4):\n",
    "    participant_dfs[i]['site'] = datasets_names_list[i]\n",
    "    \n",
    "participant_dfs[4]['site'] = participant_dfs[4]['Acquisition']\n",
    "participant_dfs[6]['site'] = participant_dfs[6]['dataset']\n",
    "participant_dfs[7]['site'] = participant_dfs[7].site.astype(str).str.replace('1','neurocog_aging1').str.replace('2','neurocog_aging2')\n",
    "participant_dfs[8]['site'] = 'narratives'\n",
    "participant_dfs[9]['site'] = participant_dfs[9].ses01_T1w_acq.astype(str).str.replace('1','qtim1').str.replace('2','qtim2')"
   ]
  },
  {
   "cell_type": "code",
   "execution_count": 357,
   "id": "85df5364-3ddd-41c2-9d7e-a02133c32c42",
   "metadata": {},
   "outputs": [],
   "source": [
    "participant_dfs[2].sex = participant_dfs[2].sex.str.replace('female','F').str.replace('male','M')"
   ]
  },
  {
   "cell_type": "code",
   "execution_count": 358,
   "id": "c48c28b6-0836-472c-897f-0991e9b72502",
   "metadata": {},
   "outputs": [],
   "source": [
    "participant_dfs[3]['sex'] = participant_dfs[3].gender_text.str.replace('FEMALE','F').str.replace('MALE','M')"
   ]
  },
  {
   "cell_type": "code",
   "execution_count": 359,
   "id": "86070bd1-f6ba-4ac7-8322-19a4b93db4dd",
   "metadata": {},
   "outputs": [],
   "source": [
    "participant_dfs[4]['participant_id'] = 'sub-' + participant_dfs[4].Subject.astype(str)"
   ]
  },
  {
   "cell_type": "code",
   "execution_count": 360,
   "id": "2883539f-31c4-476a-920a-1cf3dc8b5519",
   "metadata": {},
   "outputs": [],
   "source": [
    "participant_dfs[4]['age'] = participant_dfs[4].Age"
   ]
  },
  {
   "cell_type": "code",
   "execution_count": 361,
   "id": "95713807-8ec9-4e2f-9165-393a9b27504e",
   "metadata": {},
   "outputs": [],
   "source": [
    "participant_dfs[4]['sex'] = participant_dfs[4]['Gender']\n"
   ]
  },
  {
   "cell_type": "code",
   "execution_count": 362,
   "id": "2ed093fb-6725-4fe4-b8c0-f64c4f364e3f",
   "metadata": {},
   "outputs": [
    {
     "name": "stderr",
     "output_type": "stream",
     "text": [
      "/tmp/ipykernel_1427542/2366306193.py:19: SettingWithCopyWarning: \n",
      "A value is trying to be set on a copy of a slice from a DataFrame\n",
      "\n",
      "See the caveats in the documentation: https://pandas.pydata.org/pandas-docs/stable/user_guide/indexing.html#returning-a-view-versus-a-copy\n",
      "  participant_dfs[4].age.iloc[bool_idx] = age_arr[idx]\n"
     ]
    }
   ],
   "source": [
    "\n",
    "for age in participant_dfs[4].age.unique():\n",
    "    age_bool = (participant_dfs[4].age == age)\n",
    "    \n",
    "    if age == '36+':\n",
    "        for idx, bool_idx in enumerate(participant_dfs[4][age_bool].index):\n",
    "            participant_dfs[4].iloc[bool_idx] = np.nan\n",
    "        \n",
    "        break\n",
    "    else:\n",
    "        sub_age_range = age.split('-')\n",
    "\n",
    "        age_low = int(sub_age_range[0])\n",
    "        age_high = int(sub_age_range[1])\n",
    "\n",
    "        np.random.seed(0)\n",
    "        age_arr = np.random.randint(age_low, age_high+1, size=np.sum(age_bool))\n",
    "\n",
    "        for idx, bool_idx in enumerate(participant_dfs[4][age_bool].index):\n",
    "            participant_dfs[4].age.iloc[bool_idx] = age_arr[idx]"
   ]
  },
  {
   "cell_type": "code",
   "execution_count": 363,
   "id": "0559f923-0c98-4bd4-b833-dc2b088c768b",
   "metadata": {},
   "outputs": [],
   "source": [
    "participant_dfs[5]['participant_id'] = 'sub-' + participant_dfs[5].src_subject_id.str.replace('HCA','')\n",
    "participant_dfs[5]['age'] = participant_dfs[5].interview_age"
   ]
  },
  {
   "cell_type": "code",
   "execution_count": 364,
   "id": "79313353-0346-4ee5-9b73-07dfad967c6d",
   "metadata": {},
   "outputs": [],
   "source": [
    "participant_dfs[6]['sex'] = participant_dfs[6].gender"
   ]
  },
  {
   "cell_type": "code",
   "execution_count": 366,
   "id": "c860cc85-77eb-4ab2-aff4-4b1a182711cb",
   "metadata": {},
   "outputs": [],
   "source": [
    "for age in participant_dfs[6]['age (5-year bins)'].unique():\n",
    "    \n",
    "    if type(age) == float:\n",
    "        continue\n",
    "    else:\n",
    "        age_bool = (participant_dfs[6]['age (5-year bins)'] == age)\n",
    "\n",
    "        sub_age_range = age.split('-')\n",
    "\n",
    "        age_low = int(sub_age_range[0])\n",
    "        age_high = int(sub_age_range[1])\n",
    "\n",
    "        np.random.seed(0)\n",
    "        age_arr = np.random.randint(age_low, age_high+1, size=np.sum(age_bool))\n",
    "\n",
    "        for idx, bool_idx in enumerate(participant_dfs[6]['age (5-year bins)'][age_bool].index):\n",
    "            participant_dfs[6]['age (5-year bins)'].iloc[bool_idx] = age_arr[idx]"
   ]
  },
  {
   "cell_type": "code",
   "execution_count": 367,
   "id": "4fc335cf-3a74-41ab-9ba8-506058bb5953",
   "metadata": {},
   "outputs": [],
   "source": [
    "participant_dfs[6]['age'] = participant_dfs[6]['age (5-year bins)']"
   ]
  },
  {
   "cell_type": "code",
   "execution_count": 377,
   "id": "a479ccdb-79d8-4cbd-956c-08d2534fd4cc",
   "metadata": {},
   "outputs": [
    {
     "name": "stderr",
     "output_type": "stream",
     "text": [
      "/tmp/ipykernel_1427542/1375852419.py:1: SettingWithCopyWarning: \n",
      "A value is trying to be set on a copy of a slice from a DataFrame.\n",
      "Try using .loc[row_indexer,col_indexer] = value instead\n",
      "\n",
      "See the caveats in the documentation: https://pandas.pydata.org/pandas-docs/stable/user_guide/indexing.html#returning-a-view-versus-a-copy\n",
      "  participant_dfs[7][participant_dfs[7].age == '89+'].age = np.nan\n"
     ]
    }
   ],
   "source": [
    "participant_dfs[7][participant_dfs[7].age == '89+'].age = np.nan"
   ]
  },
  {
   "cell_type": "code",
   "execution_count": 383,
   "id": "86c74e24-eda8-48ca-8d35-62d80a7106e7",
   "metadata": {},
   "outputs": [
    {
     "name": "stderr",
     "output_type": "stream",
     "text": [
      "/tmp/ipykernel_1427542/399228310.py:1: SettingWithCopyWarning: \n",
      "A value is trying to be set on a copy of a slice from a DataFrame\n",
      "\n",
      "See the caveats in the documentation: https://pandas.pydata.org/pandas-docs/stable/user_guide/indexing.html#returning-a-view-versus-a-copy\n",
      "  participant_dfs[7].age.iloc[participant_dfs[7].age[participant_dfs[7].age == '89+'].index[0]] = np.nan\n"
     ]
    }
   ],
   "source": [
    "participant_dfs[7].age[participant_dfs[7].age == '89+'] = np.nan"
   ]
  },
  {
   "cell_type": "code",
   "execution_count": 391,
   "id": "8ce0eba3-b953-4cba-97a1-d7fa85aacf78",
   "metadata": {},
   "outputs": [],
   "source": [
    "participant_dfs[8].age = participant_dfs[8].age.str.split(',').str[0].replace('n/a',np.nan)\n",
    "participant_dfs[8].sex = participant_dfs[8].sex.str.split(',').str[0]"
   ]
  },
  {
   "cell_type": "code",
   "execution_count": 392,
   "id": "876deec8-7d15-4524-a835-f7debb234b26",
   "metadata": {},
   "outputs": [],
   "source": [
    "participant_df_clean = [ dset_df[['participant_id','age','sex','site','dataset']] for dset_df in participant_dfs]"
   ]
  },
  {
   "cell_type": "code",
   "execution_count": 393,
   "id": "193f7d34-f1fb-4099-b945-8239bc351463",
   "metadata": {},
   "outputs": [],
   "source": [
    "alldset_participant_df = pd.concat(participant_df_clean)"
   ]
  },
  {
   "cell_type": "code",
   "execution_count": 422,
   "id": "fddfdf6f-a6ed-4fee-846c-8ba8ac49d034",
   "metadata": {},
   "outputs": [],
   "source": [
    "master_participant_dataset = alldset_participant_df.dropna().reset_index(drop=True)"
   ]
  },
  {
   "cell_type": "code",
   "execution_count": 427,
   "id": "3610ecc9-7791-40a4-a4ce-0f441a4c9221",
   "metadata": {},
   "outputs": [],
   "source": [
    "master_participant_dataset.to_csv(os.path.join(project_data_dir,'master_participants_data.csv'))"
   ]
  },
  {
   "cell_type": "code",
   "execution_count": 429,
   "id": "ff950fd6-a6d3-4429-aa7e-1b2abb343a1a",
   "metadata": {},
   "outputs": [
    {
     "data": {
      "text/plain": [
       "<AxesSubplot: xlabel='age', ylabel='Count'>"
      ]
     },
     "execution_count": 429,
     "metadata": {},
     "output_type": "execute_result"
    },
    {
     "data": {
      "image/png": "[encoded data removed]",
      "text/plain": [
       "<Figure size 640x480 with 1 Axes>"
      ]
     },
     "metadata": {},
     "output_type": "display_data"
    }
   ],
   "source": [
    "sns.histplot(data=master_participant_dataset,x='age',hue='dataset',multiple='stack')"
   ]
  },
  {
   "cell_type": "code",
   "execution_count": 29,
   "id": "4cd52af4-b694-41a9-bc0c-107badc16b40",
   "metadata": {},
   "outputs": [],
   "source": []
  },
  {
   "cell_type": "code",
   "execution_count": 30,
   "id": "b00afb29-df97-4ac1-9f60-209d1aa9b4d0",
   "metadata": {},
   "outputs": [],
   "source": [
    "def glob_metric(hippunfold_dir,den='0p5mm',metric='thickness',label='hipp',ext='.dscalar.nii'):\n",
    "    paths = glob(os.path.join(hippunfold_dir, f'sub-*/surf/sub-*_space-T1w_den-{den}_label-{label}_{metric}{ext}'))\n",
    "    if paths == []:\n",
    "        paths = glob(os.path.join(hippunfold_dir, f'sub-*/ses-*1/surf/sub-*_ses-*1_space-T1w_den-{den}_label-{label}_{metric}{ext}'))\n",
    "\n",
    "    return paths"
   ]
  },
  {
   "cell_type": "code",
   "execution_count": 31,
   "id": "7b2ac7e1-c310-4bcb-9693-36d163824fb7",
   "metadata": {},
   "outputs": [],
   "source": [
    "def glob_diff(direc, hemi=['L','R'], den='0p5mm',metric='FA'):\n",
    "    paths = []\n",
    "    for h in hemi:\n",
    "        paths.append(glob(os.path.join(direc,f'sub-*/surf/sub-*_hemi-{h}_space-T1w_den-{den}_label-hipp_desc-eddy_{metric}.shape.gii')))\n",
    "    return paths"
   ]
  },
  {
   "cell_type": "code",
   "execution_count": 32,
   "id": "ce1d30a0-1999-406a-bbce-690e09a6a46e",
   "metadata": {},
   "outputs": [
    {
     "ename": "SyntaxError",
     "evalue": "unexpected EOF while parsing (3929744691.py, line 1)",
     "output_type": "error",
     "traceback": [
      "\u001b[0;36m  Cell \u001b[0;32mIn[32], line 1\u001b[0;36m\u001b[0m\n\u001b[0;31m    def get_hippunfold_metric(dsetpath: os.path.join(path,'derivatives/hippunfold/hippunfold')\u001b[0m\n\u001b[0m                                                                                              ^\u001b[0m\n\u001b[0;31mSyntaxError\u001b[0m\u001b[0;31m:\u001b[0m unexpected EOF while parsing\n"
     ]
    }
   ],
   "source": [
    "def get_hippunfold_metric(dsetpath: os.path.join(path,'derivatives/hippunfold/hippunfold')"
   ]
  },
  {
   "cell_type": "code",
   "execution_count": null,
   "id": "c3a5d544-53a5-4720-beff-aeca39368cff",
   "metadata": {},
   "outputs": [],
   "source": []
  }
 ],
 "metadata": {
  "kernelspec": {
   "display_name": "Python 3 (ipykernel)",
   "language": "python",
   "name": "python3"
  },
  "language_info": {
   "codemirror_mode": {
    "name": "ipython",
    "version": 3
   },
   "file_extension": ".py",
   "mimetype": "text/x-python",
   "name": "python",
   "nbconvert_exporter": "python",
   "pygments_lexer": "ipython3",
   "version": "3.8.10"
  }
 },
 "nbformat": 4,
 "nbformat_minor": 5
}
